{
 "cells": [
  {
   "cell_type": "code",
   "execution_count": 1,
   "id": "758a9a35",
   "metadata": {},
   "outputs": [],
   "source": [
    "#Importing the libraries\n",
    "import numpy as np\n",
    "import matplotlib.pyplot as plt\n",
    "import pandas as pd\n",
    "import seaborn as sns\n",
    "%matplotlib inline"
   ]
  },
  {
   "cell_type": "code",
   "execution_count": 5,
   "id": "320c73bb",
   "metadata": {},
   "outputs": [
    {
     "data": {
      "text/html": [
       "<div>\n",
       "<style scoped>\n",
       "    .dataframe tbody tr th:only-of-type {\n",
       "        vertical-align: middle;\n",
       "    }\n",
       "\n",
       "    .dataframe tbody tr th {\n",
       "        vertical-align: top;\n",
       "    }\n",
       "\n",
       "    .dataframe thead th {\n",
       "        text-align: right;\n",
       "    }\n",
       "</style>\n",
       "<table border=\"1\" class=\"dataframe\">\n",
       "  <thead>\n",
       "    <tr style=\"text-align: right;\">\n",
       "      <th></th>\n",
       "      <th>R&amp;D Spend</th>\n",
       "      <th>Administration</th>\n",
       "      <th>Marketing Spend</th>\n",
       "      <th>State</th>\n",
       "      <th>Profit</th>\n",
       "    </tr>\n",
       "  </thead>\n",
       "  <tbody>\n",
       "    <tr>\n",
       "      <th>0</th>\n",
       "      <td>165349.20</td>\n",
       "      <td>136897.80</td>\n",
       "      <td>471784.10</td>\n",
       "      <td>New York</td>\n",
       "      <td>192261.83</td>\n",
       "    </tr>\n",
       "    <tr>\n",
       "      <th>1</th>\n",
       "      <td>162597.70</td>\n",
       "      <td>151377.59</td>\n",
       "      <td>443898.53</td>\n",
       "      <td>California</td>\n",
       "      <td>191792.06</td>\n",
       "    </tr>\n",
       "    <tr>\n",
       "      <th>2</th>\n",
       "      <td>153441.51</td>\n",
       "      <td>101145.55</td>\n",
       "      <td>407934.54</td>\n",
       "      <td>Florida</td>\n",
       "      <td>191050.39</td>\n",
       "    </tr>\n",
       "    <tr>\n",
       "      <th>3</th>\n",
       "      <td>144372.41</td>\n",
       "      <td>118671.85</td>\n",
       "      <td>383199.62</td>\n",
       "      <td>New York</td>\n",
       "      <td>182901.99</td>\n",
       "    </tr>\n",
       "    <tr>\n",
       "      <th>4</th>\n",
       "      <td>142107.34</td>\n",
       "      <td>91391.77</td>\n",
       "      <td>366168.42</td>\n",
       "      <td>Florida</td>\n",
       "      <td>166187.94</td>\n",
       "    </tr>\n",
       "  </tbody>\n",
       "</table>\n",
       "</div>"
      ],
      "text/plain": [
       "   R&D Spend  Administration  Marketing Spend       State     Profit\n",
       "0  165349.20       136897.80        471784.10    New York  192261.83\n",
       "1  162597.70       151377.59        443898.53  California  191792.06\n",
       "2  153441.51       101145.55        407934.54     Florida  191050.39\n",
       "3  144372.41       118671.85        383199.62    New York  182901.99\n",
       "4  142107.34        91391.77        366168.42     Florida  166187.94"
      ]
     },
     "execution_count": 5,
     "metadata": {},
     "output_type": "execute_result"
    }
   ],
   "source": [
    "#Importing the dataset and Extracting the Independent and Dependent variables\n",
    "companies = pd.read_csv('desktop/1000_companies.csv')\n",
    "X = companies.iloc[:,:-1].values\n",
    "y = companies.iloc[:, 4].values\n",
    "companies.head()\n"
   ]
  },
  {
   "cell_type": "code",
   "execution_count": 7,
   "id": "256341aa",
   "metadata": {},
   "outputs": [
    {
     "data": {
      "text/plain": [
       "<AxesSubplot:>"
      ]
     },
     "execution_count": 7,
     "metadata": {},
     "output_type": "execute_result"
    },
    {
     "data": {
      "image/png": "[encoded data removed]",
      "text/plain": [
       "<Figure size 432x288 with 2 Axes>"
      ]
     },
     "metadata": {
      "needs_background": "light"
     },
     "output_type": "display_data"
    }
   ],
   "source": [
    "#Data Visualisation\n",
    "#Building the Correlation matrix\n",
    "sns.heatmap(companies.corr())"
   ]
  },
  {
   "cell_type": "code",
   "execution_count": 20,
   "id": "635390e7",
   "metadata": {},
   "outputs": [],
   "source": [
    "X= X[:,1:]"
   ]
  },
  {
   "cell_type": "code",
   "execution_count": 21,
   "id": "87e527b2",
   "metadata": {},
   "outputs": [],
   "source": [
    "from sklearn.model_selection import train_test_split\n",
    "X_train,X_test,y_train,y_test = train_test_split(X,y,test_size = 0.2,random_state = 0)"
   ]
  },
  {
   "cell_type": "code",
   "execution_count": 25,
   "id": "af4a16ae",
   "metadata": {},
   "outputs": [
    {
     "data": {
      "text/plain": [
       "LinearRegression()"
      ]
     },
     "execution_count": 25,
     "metadata": {},
     "output_type": "execute_result"
    }
   ],
   "source": [
    "#Fitting Multiple Linear Regression to te Training set\n",
    "from sklearn.linear_model import LinearRegression\n",
    "regressor = LinearRegression()\n",
    "regressor.fit(X_train,y_train)"
   ]
  },
  {
   "cell_type": "code",
   "execution_count": 26,
   "id": "1cae6b02",
   "metadata": {},
   "outputs": [
    {
     "name": "stdout",
     "output_type": "stream",
     "text": [
      "[ 91461.72556583  90147.29401119  96381.95130713 174169.3776371\n",
      "  84109.93637553 110291.85726246 172803.01313635  93083.87798247\n",
      " 162371.13997346  56122.01092122  69443.96344733 149959.51764206\n",
      " 127249.17125022  62105.81234574 176025.41736021  76306.06786302\n",
      " 118805.25693362 163551.9667833  132296.59334543 179213.89664586\n",
      "  59208.29607841  87489.47874944 179289.78742911  86019.5323312\n",
      " 106128.92847331 102492.52759442  22204.06146592  58535.18522967\n",
      "  71320.06836319 213569.45426701 121244.68966474 112605.95734747\n",
      " 101535.04659156 137806.19605374  66571.07439153 109842.25959986\n",
      " 183017.39326648 170083.80348462 173170.11188043 118249.37401146\n",
      "  96949.83958218 164398.19929312 108749.51944104  53202.79829287\n",
      " 117133.47209638  61425.8483978  157526.80501542  80528.74614037\n",
      " 158790.776901   131230.72958682 183037.86123294 173136.19640874\n",
      "  95274.32149072  79221.97169477 177938.34383927  86235.6455039\n",
      " 142570.07972585 168175.64972417  85028.96306223 105216.94386315\n",
      " 141373.93874079  54337.93816941 141639.25990221 137865.96715726\n",
      "  99659.34444938 114311.86987235 125891.3221888  150358.4435054\n",
      "  60446.86003268 172824.33947596 125040.52921919 167881.56692517\n",
      "  92807.8031485  154247.96963507  86175.87440038  78775.28003793\n",
      " 120893.12677833  93719.59720091 138918.57688769 143337.51536092\n",
      " 169800.07158448 139942.65885466 106241.02583013 154940.74446615\n",
      " 138689.03786794 109907.20615281  72068.69048583  88676.11765655\n",
      " 139991.46406969 146833.71555143 155931.33539332  61329.8924132\n",
      "  94034.76299888 113405.25126937  58221.67386859 107248.56364261\n",
      " 146861.62836812 150366.71556121 165466.54763066 119378.2989999\n",
      " 121229.79992141 138838.55007652 155556.61075064 122385.40779013\n",
      "  87656.99892306 105834.65507368  95603.97417258 175666.83409833\n",
      " 180294.63140891 109577.97785997 164207.1145038  166667.22737445\n",
      " 156014.05608004 172190.08411094 168971.82542437  55323.54418775\n",
      " 175470.36164363 105884.07527835  84636.44262759 137590.50731293\n",
      " 143894.43774747 160671.84509322 168367.34950313 120928.69670406\n",
      " 157974.32383497 111149.2462614  167265.72229887  63477.32114121\n",
      " 158214.0015805  157377.69558053 171928.68676148 154367.91461581\n",
      " 104883.98231609  86254.0562855  141408.46924499 163644.2111633\n",
      " 121633.47684516 154981.10790114 101701.93016021  83956.69091274\n",
      " 177114.02144825 103029.38478821  71670.40122745  90701.94699694\n",
      "  62744.01318093  70132.6239087   74970.74395291 175447.19984449\n",
      "  91289.87876369 113635.62045485  94151.18694135  61394.98738527\n",
      " 171516.3133929   63605.53819062 167744.4628003  165360.24071291\n",
      " 164283.42976181 103306.71125965 178756.45131646  75864.12726659\n",
      "  92885.34838579 135805.79791329  66286.9397177   72893.01283398\n",
      "  62123.60812056 182467.08856745 174753.38559189 156886.75921133\n",
      " 139970.3811136  152744.93499359  60143.27515572  92170.85395078\n",
      " 151081.42221216 167148.87392451  73577.11279269 116700.0157717\n",
      "  82019.37269813 148134.91177391 116302.34154583 130407.44661733\n",
      " 173064.22943744 148048.30628627 145907.64674533 148923.23980731\n",
      "  87822.22808056  72263.29627056  72388.20448478  71452.42142765\n",
      " 120023.11752261  90150.20005982 165631.77674528 125899.1698556\n",
      "  68491.44567795 176951.92392719 119179.76940322 164827.51958989\n",
      " 167397.03598467 146619.87177953 140005.95099645 108859.96238669]\n"
     ]
    }
   ],
   "source": [
    "#Predicting the test set results\n",
    "y_pred = regressor.predict(X_test)\n",
    "print(y_pred)"
   ]
  },
  {
   "cell_type": "code",
   "execution_count": 28,
   "id": "e230a54d",
   "metadata": {},
   "outputs": [
    {
     "name": "stdout",
     "output_type": "stream",
     "text": [
      "[ 4.28714994e-01 -9.37840242e+02]\n"
     ]
    }
   ],
   "source": [
    "#Calculating the Coefficients\n",
    "print(regressor.coef_)"
   ]
  },
  {
   "cell_type": "code",
   "execution_count": 29,
   "id": "2256a55a",
   "metadata": {},
   "outputs": [
    {
     "name": "stdout",
     "output_type": "stream",
     "text": [
      "23263.49861124021\n"
     ]
    }
   ],
   "source": [
    "#Calculating the Interept\n",
    "print(regressor.intercept_)"
   ]
  },
  {
   "cell_type": "code",
   "execution_count": 31,
   "id": "427b0920",
   "metadata": {},
   "outputs": [
    {
     "data": {
      "text/plain": [
       "0.7255655412976076"
      ]
     },
     "execution_count": 31,
     "metadata": {},
     "output_type": "execute_result"
    }
   ],
   "source": [
    "#Calculating the R squared value\n",
    "from sklearn.metrics import r2_score\n",
    "r2_score(y_test,y_pred)"
   ]
  },
  {
   "cell_type": "code",
   "execution_count": null,
   "id": "9a9c64e3",
   "metadata": {},
   "outputs": [],
   "source": []
  }
 ],
 "metadata": {
  "kernelspec": {
   "display_name": "Python 3",
   "language": "python",
   "name": "python3"
  },
  "language_info": {
   "codemirror_mode": {
    "name": "ipython",
    "version": 3
   },
   "file_extension": ".py",
   "mimetype": "text/x-python",
   "name": "python",
   "nbconvert_exporter": "python",
   "pygments_lexer": "ipython3",
   "version": "3.8.8"
  }
 },
 "nbformat": 4,
 "nbformat_minor": 5
}
